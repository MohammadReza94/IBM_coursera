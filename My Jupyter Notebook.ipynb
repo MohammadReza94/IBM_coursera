{
 "cells": [
  {
   "cell_type": "markdown",
   "id": "74e87e30-011e-456c-8742-c6a0926bb462",
   "metadata": {},
   "source": [
    "# My Jupyter Notebook on IBM Watson Studio"
   ]
  },
  {
   "cell_type": "markdown",
   "id": "e1b4fa8b-25f7-404e-a694-c1d2f8832c28",
   "metadata": {
    "tags": []
   },
   "source": [
    "**MohammadReza MohammadHassani**\n",
    ": CEO"
   ]
  },
  {
   "cell_type": "markdown",
   "id": "aa5b64bb-bbd9-4946-ac89-86aeddd67360",
   "metadata": {},
   "source": [
    "*I am interested in data science because I love working with data and numbers, by working with them we could understand and discover what is really happening behind the scene and make the best decisions by analyzing them.*"
   ]
  },
  {
   "cell_type": "markdown",
   "id": "875f3a46-c8df-4426-9525-1dd0aefe232a",
   "metadata": {},
   "source": [
    "### The Cell5 code is just about showing sum of two numbers!"
   ]
  },
  {
   "cell_type": "code",
   "execution_count": null,
   "id": "81db3579-02c7-45e1-a5be-2cc46acbc702",
   "metadata": {
    "tags": []
   },
   "outputs": [],
   "source": [
    "a = 1\n",
    "b = 3\n",
    "print(a+b)"
   ]
  },
  {
   "cell_type": "markdown",
   "id": "28abed01-16e5-4155-ac70-2965de2495ec",
   "metadata": {},
   "source": [
    "---\n",
    "1. First item\n",
    "2. Second item\n",
    "3. Third item\n",
    "\n",
    "[Hyperlink](https://www.example.com)\n",
    "\n",
    "This is a <mark>Highlight</mark>\n",
    "\n",
    "```json\n",
    "{\n",
    "  \"This is a\": \"Syntax Highlighting\",\n",
    "  \n",
    "    \"firstName\": \"MohammadReza\";\n",
    "}\n",
    "```\n",
    "\n",
    "> blockquote\n",
    "\n",
    "~~This is an example for Strikethrough.~~"
   ]
  }
 ],
 "metadata": {
  "kernelspec": {
   "display_name": "",
   "name": ""
  },
  "language_info": {
   "name": ""
  }
 },
 "nbformat": 4,
 "nbformat_minor": 5
}
